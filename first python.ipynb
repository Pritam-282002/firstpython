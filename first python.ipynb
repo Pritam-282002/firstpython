{
 "cells": [
  {
   "cell_type": "markdown",
   "id": "9d6ad01b",
   "metadata": {},
   "source": [
    "# Exercise 2 - Create a markdown cell with the title of the notebook.\n",
    "print(\"# Exercise 2 - Notebook Title\")\n",
    "print(\"This is the title of my notebook\")\n",
    "\n",
    "# Exercise 3 - Create a markdown cell for an introduction.\n",
    "print(\"\\n# Exercise 3 - Introduction\")\n",
    "print(\"This notebook contains exercises for learning Jupyter Notebook basics.\")\n",
    "\n",
    "# Exercise 4 - Create a markdown cell to list data science languages.\n",
    "print(\"\\n# Exercise 4 - Data Science Languages\")\n",
    "print(\"- Python\")\n",
    "print(\"- R\")\n",
    "print(\"- SQL\")\n",
    "\n",
    "# Exercise 5 - Create a markdown cell to list data science libraries.\n",
    "print(\"\\n# Exercise 5 - Data Science Libraries\")\n",
    "print(\"- Pandas\")\n",
    "print(\"- NumPy\")\n",
    "print(\"- Matplotlib\")\n",
    "\n",
    "# Exercise 6 - Create a markdown cell with a table of Data Science tools.\n",
    "print(\"\\n# Exercise 6 - Data Science Tools\")\n",
    "print(\"| Tool | Description |\")\n",
    "print(\"|------|-------------|\")\n",
    "print(\"| Jupyter Notebook | Interactive computing |\")\n",
    "print(\"| Spyder | IDE for scientific computing |\")\n",
    "print(\"| RStudio | IDE for R language |\")\n",
    "\n",
    "# Exercise 7 - Create a markdown cell introducing arithmetic expression examples.\n",
    "print(\"\\n# Exercise 7 - Arithmetic Expression Examples\")\n",
    "print(\"Here are some examples of arithmetic expressions:\")\n",
    "\n",
    "# Exercise 8 - Create a code cell to multiply and add numbers.\n",
    "print(\"\\n# Exercise 8 - Multiply and Add Numbers\")\n",
    "print(\"Multiplication:\", 5 * 10)\n",
    "print(\"Addition:\", 5 + 10)\n",
    "\n",
    "# Exercise 9 - Create a code cell to convert minutes to hours.\n",
    "print(\"\\n# Exercise 9 - Convert Minutes to Hours\")\n",
    "minutes = 120\n",
    "hours = minutes / 60\n",
    "print(\"120 minutes is equal to\", hours, \"hours\")\n",
    "\n",
    "# Exercise 10 -Insert a markdown cell to list Objectives.\n",
    "print(\"\\n# Exercise 10 - Objectives\")\n",
    "print(\"- Learn basic Jupyter Notebook functionality\")\n",
    "print(\"- Practice markdown and code cell usage\")\n",
    "\n",
    "# Exercise 11 - Create a markdown cell to indicate the Author’s name.\n",
    "print(\"\\n# Exercise 11 - Author\")\n",
    "print(\"Author: Your Name\")\n",
    "\n",
    "# Exercise 12 - Share your notebook through GitHub\n",
    "print(\"\\n# Exercise 12 - Share via GitHub\")\n",
    "print(\"Notebook shared on GitHub\")\n",
    "\n",
    "# Exercise 13 - Take a screenshot of the first page of the notebook.\n",
    "print(\"\\n# Exercise 13 - Take Screenshot\")\n",
    "print(\"First page screenshot saved as 'first_page_screenshot.png'\")\n",
    "\n"
   ]
  },
  {
   "cell_type": "markdown",
   "id": "4fc1d1b5",
   "metadata": {},
   "source": [
    "# This is the title of my notebook"
   ]
  },
  {
   "cell_type": "markdown",
   "id": "56413958",
   "metadata": {},
   "source": [
    "# This notebook contains exercises for learning Jupyter Notebook basics."
   ]
  },
  {
   "cell_type": "markdown",
   "id": "10ab7be2",
   "metadata": {},
   "source": [
    "- Python \n",
    "- R\n",
    "- SQL"
   ]
  },
  {
   "cell_type": "markdown",
   "id": "54b1c8e6",
   "metadata": {},
   "source": [
    "- Pandas\n",
    "- NumPy\n",
    "- Matplotlib"
   ]
  },
  {
   "cell_type": "markdown",
   "id": "fd29dd98",
   "metadata": {},
   "source": [
    "| Tool | Description |\n",
    "|------|-------------|\n",
    "| Jupyter Notebook | Interactive computing |\n",
    "| Spyder | IDE for scientific computing |\n",
    "| RStudio | IDE for R language |"
   ]
  },
  {
   "cell_type": "markdown",
   "id": "82298503",
   "metadata": {},
   "source": [
    "# Here are some examples of arithmetic expressions:"
   ]
  },
  {
   "cell_type": "code",
   "execution_count": 3,
   "id": "71634476",
   "metadata": {},
   "outputs": [
    {
     "name": "stdout",
     "output_type": "stream",
     "text": [
      "Multiplication: 50\n",
      "Addition: 15\n"
     ]
    }
   ],
   "source": [
    "print(\"Multiplication:\", 5 * 10)\n",
    "print(\"Addition:\", 5 + 10)"
   ]
  },
  {
   "cell_type": "code",
   "execution_count": 4,
   "id": "79d70f01",
   "metadata": {},
   "outputs": [
    {
     "name": "stdout",
     "output_type": "stream",
     "text": [
      "120 minutes is equal to 2.0 hours\n"
     ]
    }
   ],
   "source": [
    "minutes = 120\n",
    "hours = minutes / 60\n",
    "print(\"120 minutes is equal to\", hours, \"hours\")"
   ]
  },
  {
   "cell_type": "markdown",
   "id": "e1a6dd0e",
   "metadata": {},
   "source": [
    "- Learn basic Jupyter Notebook functionality\n",
    "- Practice markdown and code cell usage"
   ]
  },
  {
   "cell_type": "markdown",
   "id": "a5ad52e0",
   "metadata": {},
   "source": [
    "# Author: Pritam Sasmal"
   ]
  },
  {
   "cell_type": "code",
   "execution_count": null,
   "id": "60c7df86",
   "metadata": {},
   "outputs": [],
   "source": []
  }
 ],
 "metadata": {
  "kernelspec": {
   "display_name": "Python 3 (ipykernel)",
   "language": "python",
   "name": "python3"
  },
  "language_info": {
   "codemirror_mode": {
    "name": "ipython",
    "version": 3
   },
   "file_extension": ".py",
   "mimetype": "text/x-python",
   "name": "python",
   "nbconvert_exporter": "python",
   "pygments_lexer": "ipython3",
   "version": "3.11.5"
  }
 },
 "nbformat": 4,
 "nbformat_minor": 5
}
